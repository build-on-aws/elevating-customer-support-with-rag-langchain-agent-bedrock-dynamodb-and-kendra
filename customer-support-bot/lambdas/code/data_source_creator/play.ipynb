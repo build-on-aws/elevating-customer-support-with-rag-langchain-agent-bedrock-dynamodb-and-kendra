{
 "cells": [
  {
   "cell_type": "code",
   "execution_count": 2,
   "metadata": {},
   "outputs": [],
   "source": [
    "import json \n",
    "import requests"
   ]
  },
  {
   "cell_type": "code",
   "execution_count": 16,
   "metadata": {},
   "outputs": [],
   "source": [
    "def send_response(event, context, response_status, response_data):\n",
    "    '''Send a resource manipulation status response to CloudFormation'''\n",
    "    response_body = json.dumps({\n",
    "        \"Status\": response_status,\n",
    "        \"Reason\": \"See the details in CloudWatch Log Stream: \" + context,\n",
    "        \"PhysicalResourceId\": context,\n",
    "        \"StackId\": event['StackId'],\n",
    "        \"RequestId\": event['RequestId'],\n",
    "        \"LogicalResourceId\": event['LogicalResourceId'],\n",
    "        \"Data\": response_data\n",
    "    })\n",
    "    headers = {\n",
    "    'Content-Type': 'application/json',  \n",
    "    'Content-Length': str(len(response_body))\n",
    "    } \n",
    "\n",
    "\n",
    "    response = requests.put(event['ResponseURL'], \n",
    "                            data=response_body, headers=headers)\n",
    "    return response"
   ]
  },
  {
   "cell_type": "code",
   "execution_count": 12,
   "metadata": {},
   "outputs": [],
   "source": [
    "with open (\"./create.event.json\") as f:\n",
    "    event = json.load(f)\n",
    "\n",
    "context = \"hello world\""
   ]
  },
  {
   "cell_type": "code",
   "execution_count": null,
   "metadata": {},
   "outputs": [],
   "source": []
  },
  {
   "cell_type": "code",
   "execution_count": 17,
   "metadata": {},
   "outputs": [],
   "source": [
    "res = send_response(event, context, \"SUCCESS\",\n",
    "                          {\"Message\": \"Resource creation successful!\"})"
   ]
  },
  {
   "cell_type": "code",
   "execution_count": 18,
   "metadata": {},
   "outputs": [
    {
     "data": {
      "text/plain": [
       "<Response [200]>"
      ]
     },
     "execution_count": 18,
     "metadata": {},
     "output_type": "execute_result"
    }
   ],
   "source": [
    "res"
   ]
  },
  {
   "cell_type": "code",
   "execution_count": 21,
   "metadata": {},
   "outputs": [
    {
     "data": {
      "text/plain": [
       "b''"
      ]
     },
     "execution_count": 21,
     "metadata": {},
     "output_type": "execute_result"
    }
   ],
   "source": [
    "res.content"
   ]
  },
  {
   "cell_type": "code",
   "execution_count": null,
   "metadata": {},
   "outputs": [],
   "source": []
  }
 ],
 "metadata": {
  "kernelspec": {
   "display_name": ".venv",
   "language": "python",
   "name": "python3"
  },
  "language_info": {
   "codemirror_mode": {
    "name": "ipython",
    "version": 3
   },
   "file_extension": ".py",
   "mimetype": "text/x-python",
   "name": "python",
   "nbconvert_exporter": "python",
   "pygments_lexer": "ipython3",
   "version": "3.11.2"
  },
  "orig_nbformat": 4
 },
 "nbformat": 4,
 "nbformat_minor": 2
}
